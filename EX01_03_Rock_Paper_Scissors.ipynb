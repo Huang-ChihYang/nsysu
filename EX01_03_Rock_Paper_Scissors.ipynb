{
  "nbformat": 4,
  "nbformat_minor": 0,
  "metadata": {
    "colab": {
      "provenance": [],
      "authorship_tag": "ABX9TyMHCnvw9YFPCLUTIWOiG9ig",
      "include_colab_link": true
    },
    "kernelspec": {
      "name": "python3",
      "display_name": "Python 3"
    },
    "language_info": {
      "name": "python"
    }
  },
  "cells": [
    {
      "cell_type": "markdown",
      "metadata": {
        "id": "view-in-github",
        "colab_type": "text"
      },
      "source": [
        "<a href=\"https://colab.research.google.com/github/Huang-ChihYang/nsysu/blob/main/EX01_03_Rock_Paper_Scissors.ipynb\" target=\"_parent\"><img src=\"https://colab.research.google.com/assets/colab-badge.svg\" alt=\"Open In Colab\"/></a>"
      ]
    },
    {
      "cell_type": "code",
      "execution_count": 4,
      "metadata": {
        "colab": {
          "base_uri": "https://localhost:8080/"
        },
        "id": "JRU8NxP2RnqQ",
        "outputId": "6bd8036f-e236-4e0f-8f4d-446cb039cb82"
      },
      "outputs": [
        {
          "output_type": "stream",
          "name": "stdout",
          "text": [
            "0\n",
            "computer choose: 5\n",
            "lose\n"
          ]
        }
      ],
      "source": [
        "import random\n",
        "\n",
        "ply=int(input())\n",
        "\n",
        "cmp=[0,2,5]\n",
        "cmp=random.choice(cmp)\n",
        "print('computer choose:',cmp)\n",
        "\n",
        "if ply==0:\n",
        "  if cmp==0:\n",
        "    print('draw')\n",
        "  elif cmp==2:\n",
        "    print('win')\n",
        "  else:\n",
        "    print('lose')\n",
        "elif ply==2:\n",
        "  if cmp==0:\n",
        "    print('lose')\n",
        "  elif cmp==2:\n",
        "    print('draw')\n",
        "  else:\n",
        "    print('win')\n",
        "else:\n",
        "  if cmp==2:\n",
        "    print('lose')\n",
        "  elif cmp==5:\n",
        "    print('draw')\n",
        "  else:\n",
        "    print('win')"
      ]
    },
    {
      "cell_type": "code",
      "source": [],
      "metadata": {
        "id": "661oOcNkR-zn"
      },
      "execution_count": null,
      "outputs": []
    }
  ]
}