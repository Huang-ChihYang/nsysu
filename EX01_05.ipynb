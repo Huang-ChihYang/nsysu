{
  "nbformat": 4,
  "nbformat_minor": 0,
  "metadata": {
    "colab": {
      "provenance": [],
      "authorship_tag": "ABX9TyO4RnyZ2HrP6uMw/lS4AUMp",
      "include_colab_link": true
    },
    "kernelspec": {
      "name": "python3",
      "display_name": "Python 3"
    },
    "language_info": {
      "name": "python"
    }
  },
  "cells": [
    {
      "cell_type": "markdown",
      "metadata": {
        "id": "view-in-github",
        "colab_type": "text"
      },
      "source": [
        "<a href=\"https://colab.research.google.com/github/Huang-ChihYang/nsysu/blob/main/EX01_05.ipynb\" target=\"_parent\"><img src=\"https://colab.research.google.com/assets/colab-badge.svg\" alt=\"Open In Colab\"/></a>"
      ]
    },
    {
      "cell_type": "code",
      "execution_count": 7,
      "metadata": {
        "colab": {
          "base_uri": "https://localhost:8080/"
        },
        "id": "q0xsQLitIjLs",
        "outputId": "408cd003-a284-430d-d212-d73f853e9d97"
      },
      "outputs": [
        {
          "output_type": "stream",
          "name": "stdout",
          "text": [
            "enter your movement: e2\n",
            "enter the text: apple\n",
            "crrng\n"
          ]
        }
      ],
      "source": [
        "act=input('enter your movement: ')\n",
        "txt=input('enter the text: ')\n",
        "\n",
        "c=act[0]\n",
        "key=int(act[1])\n",
        "ntxt=''\n",
        "\n",
        "if c=='e':\n",
        "  for i in txt:\n",
        "    i=ord(i)\n",
        "    ni=i+key\n",
        "    ntxt+=chr(ni)\n",
        "\n",
        "else:\n",
        "  for i in txt:\n",
        "    i=ord(i)\n",
        "    ni=i-key\n",
        "    ntxt+=chr(ni)\n",
        "\n",
        "print(ntxt)"
      ]
    },
    {
      "cell_type": "code",
      "source": [],
      "metadata": {
        "id": "PTimXGUjMBRZ"
      },
      "execution_count": null,
      "outputs": []
    }
  ]
}