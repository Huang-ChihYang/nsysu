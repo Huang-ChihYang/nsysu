{
  "nbformat": 4,
  "nbformat_minor": 0,
  "metadata": {
    "colab": {
      "provenance": [],
      "authorship_tag": "ABX9TyPpyj2yPXza8m/dN6617XJP",
      "include_colab_link": true
    },
    "kernelspec": {
      "name": "python3",
      "display_name": "Python 3"
    },
    "language_info": {
      "name": "python"
    }
  },
  "cells": [
    {
      "cell_type": "markdown",
      "metadata": {
        "id": "view-in-github",
        "colab_type": "text"
      },
      "source": [
        "<a href=\"https://colab.research.google.com/github/Huang-ChihYang/nsysu/blob/main/EX02_05.ipynb\" target=\"_parent\"><img src=\"https://colab.research.google.com/assets/colab-badge.svg\" alt=\"Open In Colab\"/></a>"
      ]
    },
    {
      "cell_type": "code",
      "execution_count": 4,
      "metadata": {
        "colab": {
          "base_uri": "https://localhost:8080/"
        },
        "id": "uNwLuOlu1Ova",
        "outputId": "b7461485-6822-4e5d-93e8-f439edf98860"
      },
      "outputs": [
        {
          "output_type": "execute_result",
          "data": {
            "text/plain": [
              "<title>看板 Gossiping 文章列表 - 批踢踢實業坊</title>"
            ]
          },
          "metadata": {},
          "execution_count": 4
        }
      ],
      "source": [
        "import requests\n",
        "from bs4 import BeautifulSoup\n",
        "\n",
        "response = requests.get(\"https://www.ptt.cc/bbs/Gossiping/index.html\")\n",
        "soup = BeautifulSoup(response.text, 'lxml')\n",
        "soup.title"
      ]
    },
    {
      "cell_type": "code",
      "source": [
        "def get_articles(url):\n",
        "  response = requests.get(url,cookies=cookies)\n",
        "  soup = BeautifulSoup(response.text, 'lxml')\n",
        "  for atcl in soup.find_all('div',class_=\"r-ent\"):\n",
        "    if atcl.find('div',class_='title').a:\n",
        "      ttle=atcl.find('div',class_=\"title\").a.text\n",
        "      href='https://www.ptt.cc/'+atcl.find('div',class_=\"title\").a.get('href')\n",
        "    else:\n",
        "      ttle=atcl.find('div',class_=\"title\").text.strip()\n",
        "      href=''\n",
        "    date=atcl.find('div',class_=\"date\").text\n",
        "    print(ttle,href,date)\n",
        "  url='https://www.ptt.cc'+soup.find_all('a',class_=\"btn wide\")[1].get('href')\n",
        "  return url\n",
        ""
      ],
      "metadata": {
        "id": "r4w0RPDDMPhE"
      },
      "execution_count": 9,
      "outputs": []
    },
    {
      "cell_type": "code",
      "source": [
        "url='https://www.ptt.cc/bbs/Gossiping/index.html'\n",
        "cookies = {'over18': '1'}\n",
        "for i in range(5):\n",
        "  get_articles(url)\n",
        ""
      ],
      "metadata": {
        "colab": {
          "base_uri": "https://localhost:8080/"
        },
        "id": "ofWIadjwZedX",
        "outputId": "e278a5a4-bbc3-46a0-c6ae-74a1cf0483d2"
      },
      "execution_count": 11,
      "outputs": [
        {
          "output_type": "stream",
          "name": "stdout",
          "text": [
            "[問卦] 高速公路匝道出入口交錯的好處？ https://www.ptt.cc//bbs/Gossiping/M.1742890267.A.7A6.html  3/25\n",
            "[問卦] 白雪公主中文配音為什麼不找白癡公主？ https://www.ptt.cc//bbs/Gossiping/M.1742890370.A.E2B.html  3/25\n",
            "Re: [問卦] 亞亞買好機票了 https://www.ptt.cc//bbs/Gossiping/M.1742890433.A.C2C.html  3/25\n",
            "[新聞] 募款的背叛／建築師控裘振宇過河拆橋　 https://www.ptt.cc//bbs/Gossiping/M.1742890450.A.0D5.html  3/25\n",
            "Re: [問卦] 大家現在對漲價的容忍力都變高了？ https://www.ptt.cc//bbs/Gossiping/M.1742890578.A.782.html  3/25\n",
            "Re: [問卦]  我不認同你的觀點 但是我誓死捍衛你 https://www.ptt.cc//bbs/Gossiping/M.1742890674.A.69A.html  3/25\n",
            "[新聞] 現代汽車對美追加投資6930億元 採購天然 https://www.ptt.cc//bbs/Gossiping/M.1742890716.A.BE1.html  3/25\n",
            "Re: [新聞] 快訊／八炯側攻失敗！衝陸配「亞亞」記 https://www.ptt.cc//bbs/Gossiping/M.1742890804.A.0BE.html  3/25\n",
            "[新聞] 日刑事補償最高金額！ 「最長壽死囚」沉 https://www.ptt.cc//bbs/Gossiping/M.1742890870.A.B4A.html  3/25\n",
            "[問卦] 認為釣魚台屬於日本的日本人 https://www.ptt.cc//bbs/Gossiping/M.1742890921.A.C22.html  3/25\n",
            "Re: [問卦] 大家現在對漲價的容忍力都變高了？ https://www.ptt.cc//bbs/Gossiping/M.1742890933.A.E46.html  3/25\n",
            "Re: [問卦] 言論自由最輝煌的年代是2008~2016年 https://www.ptt.cc//bbs/Gossiping/M.1742890960.A.C66.html  3/25\n",
            "[問卦] 歐洲治安差又髒？ https://www.ptt.cc//bbs/Gossiping/M.1742891002.A.186.html  3/25\n",
            "Re: [問卦] 亞亞買好機票了 https://www.ptt.cc//bbs/Gossiping/M.1742891031.A.1EA.html  3/25\n",
            "[問卦] 有一說一 步兵空曠處遇到無人機放棄抵抗? https://www.ptt.cc//bbs/Gossiping/M.1742891059.A.5BC.html  3/25\n",
            "[問卦] 亞亞回中國會被稱為民族英雄嗎？ https://www.ptt.cc//bbs/Gossiping/M.1742891065.A.CEA.html  3/25\n",
            "[問卦] 讚安諾要怎麼cp值高取得 https://www.ptt.cc//bbs/Gossiping/M.1742891129.A.198.html  3/25\n",
            "Fw: [公告] 請留意新註冊帳號使用信件詐騙 https://www.ptt.cc//bbs/Gossiping/M.1730554547.A.41C.html 11/02\n",
            "[公告] 八卦板板規(2025.01.21) https://www.ptt.cc//bbs/Gossiping/M.1737398137.A.644.html  1/21\n",
            "[公告]  春季大反攻！！八卦板主徵選報名開始捏 https://www.ptt.cc//bbs/Gossiping/M.1740024219.A.1EB.html  2/20\n",
            "Fw: [公告] 請避免與登入1次之帳號進行交易 發錢 https://www.ptt.cc//bbs/Gossiping/M.1741791500.A.EB6.html  3/12\n",
            "[問卦] 高速公路匝道出入口交錯的好處？ https://www.ptt.cc//bbs/Gossiping/M.1742890267.A.7A6.html  3/25\n",
            "[問卦] 白雪公主中文配音為什麼不找白癡公主？ https://www.ptt.cc//bbs/Gossiping/M.1742890370.A.E2B.html  3/25\n",
            "Re: [問卦] 亞亞買好機票了 https://www.ptt.cc//bbs/Gossiping/M.1742890433.A.C2C.html  3/25\n",
            "[新聞] 募款的背叛／建築師控裘振宇過河拆橋　 https://www.ptt.cc//bbs/Gossiping/M.1742890450.A.0D5.html  3/25\n",
            "Re: [問卦] 大家現在對漲價的容忍力都變高了？ https://www.ptt.cc//bbs/Gossiping/M.1742890578.A.782.html  3/25\n",
            "Re: [問卦]  我不認同你的觀點 但是我誓死捍衛你 https://www.ptt.cc//bbs/Gossiping/M.1742890674.A.69A.html  3/25\n",
            "[新聞] 現代汽車對美追加投資6930億元 採購天然 https://www.ptt.cc//bbs/Gossiping/M.1742890716.A.BE1.html  3/25\n",
            "Re: [新聞] 快訊／八炯側攻失敗！衝陸配「亞亞」記 https://www.ptt.cc//bbs/Gossiping/M.1742890804.A.0BE.html  3/25\n",
            "[新聞] 日刑事補償最高金額！ 「最長壽死囚」沉 https://www.ptt.cc//bbs/Gossiping/M.1742890870.A.B4A.html  3/25\n",
            "[問卦] 認為釣魚台屬於日本的日本人 https://www.ptt.cc//bbs/Gossiping/M.1742890921.A.C22.html  3/25\n",
            "Re: [問卦] 大家現在對漲價的容忍力都變高了？ https://www.ptt.cc//bbs/Gossiping/M.1742890933.A.E46.html  3/25\n",
            "Re: [問卦] 言論自由最輝煌的年代是2008~2016年 https://www.ptt.cc//bbs/Gossiping/M.1742890960.A.C66.html  3/25\n",
            "[問卦] 歐洲治安差又髒？ https://www.ptt.cc//bbs/Gossiping/M.1742891002.A.186.html  3/25\n",
            "Re: [問卦] 亞亞買好機票了 https://www.ptt.cc//bbs/Gossiping/M.1742891031.A.1EA.html  3/25\n",
            "[問卦] 有一說一 步兵空曠處遇到無人機放棄抵抗? https://www.ptt.cc//bbs/Gossiping/M.1742891059.A.5BC.html  3/25\n",
            "[問卦] 亞亞回中國會被稱為民族英雄嗎？ https://www.ptt.cc//bbs/Gossiping/M.1742891065.A.CEA.html  3/25\n",
            "[問卦] 讚安諾要怎麼cp值高取得 https://www.ptt.cc//bbs/Gossiping/M.1742891129.A.198.html  3/25\n",
            "Fw: [公告] 請留意新註冊帳號使用信件詐騙 https://www.ptt.cc//bbs/Gossiping/M.1730554547.A.41C.html 11/02\n",
            "[公告] 八卦板板規(2025.01.21) https://www.ptt.cc//bbs/Gossiping/M.1737398137.A.644.html  1/21\n",
            "[公告]  春季大反攻！！八卦板主徵選報名開始捏 https://www.ptt.cc//bbs/Gossiping/M.1740024219.A.1EB.html  2/20\n",
            "Fw: [公告] 請避免與登入1次之帳號進行交易 發錢 https://www.ptt.cc//bbs/Gossiping/M.1741791500.A.EB6.html  3/12\n",
            "[問卦] 高速公路匝道出入口交錯的好處？ https://www.ptt.cc//bbs/Gossiping/M.1742890267.A.7A6.html  3/25\n",
            "[問卦] 白雪公主中文配音為什麼不找白癡公主？ https://www.ptt.cc//bbs/Gossiping/M.1742890370.A.E2B.html  3/25\n",
            "Re: [問卦] 亞亞買好機票了 https://www.ptt.cc//bbs/Gossiping/M.1742890433.A.C2C.html  3/25\n",
            "[新聞] 募款的背叛／建築師控裘振宇過河拆橋　 https://www.ptt.cc//bbs/Gossiping/M.1742890450.A.0D5.html  3/25\n",
            "Re: [問卦] 大家現在對漲價的容忍力都變高了？ https://www.ptt.cc//bbs/Gossiping/M.1742890578.A.782.html  3/25\n",
            "Re: [問卦]  我不認同你的觀點 但是我誓死捍衛你 https://www.ptt.cc//bbs/Gossiping/M.1742890674.A.69A.html  3/25\n",
            "[新聞] 現代汽車對美追加投資6930億元 採購天然 https://www.ptt.cc//bbs/Gossiping/M.1742890716.A.BE1.html  3/25\n",
            "Re: [新聞] 快訊／八炯側攻失敗！衝陸配「亞亞」記 https://www.ptt.cc//bbs/Gossiping/M.1742890804.A.0BE.html  3/25\n",
            "[新聞] 日刑事補償最高金額！ 「最長壽死囚」沉 https://www.ptt.cc//bbs/Gossiping/M.1742890870.A.B4A.html  3/25\n",
            "[問卦] 認為釣魚台屬於日本的日本人 https://www.ptt.cc//bbs/Gossiping/M.1742890921.A.C22.html  3/25\n",
            "Re: [問卦] 大家現在對漲價的容忍力都變高了？ https://www.ptt.cc//bbs/Gossiping/M.1742890933.A.E46.html  3/25\n",
            "Re: [問卦] 言論自由最輝煌的年代是2008~2016年 https://www.ptt.cc//bbs/Gossiping/M.1742890960.A.C66.html  3/25\n",
            "[問卦] 歐洲治安差又髒？ https://www.ptt.cc//bbs/Gossiping/M.1742891002.A.186.html  3/25\n",
            "Re: [問卦] 亞亞買好機票了 https://www.ptt.cc//bbs/Gossiping/M.1742891031.A.1EA.html  3/25\n",
            "[問卦] 有一說一 步兵空曠處遇到無人機放棄抵抗? https://www.ptt.cc//bbs/Gossiping/M.1742891059.A.5BC.html  3/25\n",
            "[問卦] 亞亞回中國會被稱為民族英雄嗎？ https://www.ptt.cc//bbs/Gossiping/M.1742891065.A.CEA.html  3/25\n",
            "[問卦] 讚安諾要怎麼cp值高取得 https://www.ptt.cc//bbs/Gossiping/M.1742891129.A.198.html  3/25\n",
            "Fw: [公告] 請留意新註冊帳號使用信件詐騙 https://www.ptt.cc//bbs/Gossiping/M.1730554547.A.41C.html 11/02\n",
            "[公告] 八卦板板規(2025.01.21) https://www.ptt.cc//bbs/Gossiping/M.1737398137.A.644.html  1/21\n",
            "[公告]  春季大反攻！！八卦板主徵選報名開始捏 https://www.ptt.cc//bbs/Gossiping/M.1740024219.A.1EB.html  2/20\n",
            "Fw: [公告] 請避免與登入1次之帳號進行交易 發錢 https://www.ptt.cc//bbs/Gossiping/M.1741791500.A.EB6.html  3/12\n",
            "[問卦] 高速公路匝道出入口交錯的好處？ https://www.ptt.cc//bbs/Gossiping/M.1742890267.A.7A6.html  3/25\n",
            "[問卦] 白雪公主中文配音為什麼不找白癡公主？ https://www.ptt.cc//bbs/Gossiping/M.1742890370.A.E2B.html  3/25\n",
            "Re: [問卦] 亞亞買好機票了 https://www.ptt.cc//bbs/Gossiping/M.1742890433.A.C2C.html  3/25\n",
            "[新聞] 募款的背叛／建築師控裘振宇過河拆橋　 https://www.ptt.cc//bbs/Gossiping/M.1742890450.A.0D5.html  3/25\n",
            "Re: [問卦] 大家現在對漲價的容忍力都變高了？ https://www.ptt.cc//bbs/Gossiping/M.1742890578.A.782.html  3/25\n",
            "Re: [問卦]  我不認同你的觀點 但是我誓死捍衛你 https://www.ptt.cc//bbs/Gossiping/M.1742890674.A.69A.html  3/25\n",
            "[新聞] 現代汽車對美追加投資6930億元 採購天然 https://www.ptt.cc//bbs/Gossiping/M.1742890716.A.BE1.html  3/25\n",
            "Re: [新聞] 快訊／八炯側攻失敗！衝陸配「亞亞」記 https://www.ptt.cc//bbs/Gossiping/M.1742890804.A.0BE.html  3/25\n",
            "[新聞] 日刑事補償最高金額！ 「最長壽死囚」沉 https://www.ptt.cc//bbs/Gossiping/M.1742890870.A.B4A.html  3/25\n",
            "[問卦] 認為釣魚台屬於日本的日本人 https://www.ptt.cc//bbs/Gossiping/M.1742890921.A.C22.html  3/25\n",
            "Re: [問卦] 大家現在對漲價的容忍力都變高了？ https://www.ptt.cc//bbs/Gossiping/M.1742890933.A.E46.html  3/25\n",
            "Re: [問卦] 言論自由最輝煌的年代是2008~2016年 https://www.ptt.cc//bbs/Gossiping/M.1742890960.A.C66.html  3/25\n",
            "[問卦] 歐洲治安差又髒？ https://www.ptt.cc//bbs/Gossiping/M.1742891002.A.186.html  3/25\n",
            "Re: [問卦] 亞亞買好機票了 https://www.ptt.cc//bbs/Gossiping/M.1742891031.A.1EA.html  3/25\n",
            "[問卦] 有一說一 步兵空曠處遇到無人機放棄抵抗? https://www.ptt.cc//bbs/Gossiping/M.1742891059.A.5BC.html  3/25\n",
            "[問卦] 亞亞回中國會被稱為民族英雄嗎？ https://www.ptt.cc//bbs/Gossiping/M.1742891065.A.CEA.html  3/25\n",
            "[問卦] 讚安諾要怎麼cp值高取得 https://www.ptt.cc//bbs/Gossiping/M.1742891129.A.198.html  3/25\n",
            "Fw: [公告] 請留意新註冊帳號使用信件詐騙 https://www.ptt.cc//bbs/Gossiping/M.1730554547.A.41C.html 11/02\n",
            "[公告] 八卦板板規(2025.01.21) https://www.ptt.cc//bbs/Gossiping/M.1737398137.A.644.html  1/21\n",
            "[公告]  春季大反攻！！八卦板主徵選報名開始捏 https://www.ptt.cc//bbs/Gossiping/M.1740024219.A.1EB.html  2/20\n",
            "Fw: [公告] 請避免與登入1次之帳號進行交易 發錢 https://www.ptt.cc//bbs/Gossiping/M.1741791500.A.EB6.html  3/12\n",
            "[問卦] 高速公路匝道出入口交錯的好處？ https://www.ptt.cc//bbs/Gossiping/M.1742890267.A.7A6.html  3/25\n",
            "[問卦] 白雪公主中文配音為什麼不找白癡公主？ https://www.ptt.cc//bbs/Gossiping/M.1742890370.A.E2B.html  3/25\n",
            "Re: [問卦] 亞亞買好機票了 https://www.ptt.cc//bbs/Gossiping/M.1742890433.A.C2C.html  3/25\n",
            "[新聞] 募款的背叛／建築師控裘振宇過河拆橋　 https://www.ptt.cc//bbs/Gossiping/M.1742890450.A.0D5.html  3/25\n",
            "Re: [問卦] 大家現在對漲價的容忍力都變高了？ https://www.ptt.cc//bbs/Gossiping/M.1742890578.A.782.html  3/25\n",
            "Re: [問卦]  我不認同你的觀點 但是我誓死捍衛你 https://www.ptt.cc//bbs/Gossiping/M.1742890674.A.69A.html  3/25\n",
            "[新聞] 現代汽車對美追加投資6930億元 採購天然 https://www.ptt.cc//bbs/Gossiping/M.1742890716.A.BE1.html  3/25\n",
            "Re: [新聞] 快訊／八炯側攻失敗！衝陸配「亞亞」記 https://www.ptt.cc//bbs/Gossiping/M.1742890804.A.0BE.html  3/25\n",
            "[新聞] 日刑事補償最高金額！ 「最長壽死囚」沉 https://www.ptt.cc//bbs/Gossiping/M.1742890870.A.B4A.html  3/25\n",
            "[問卦] 認為釣魚台屬於日本的日本人 https://www.ptt.cc//bbs/Gossiping/M.1742890921.A.C22.html  3/25\n",
            "Re: [問卦] 大家現在對漲價的容忍力都變高了？ https://www.ptt.cc//bbs/Gossiping/M.1742890933.A.E46.html  3/25\n",
            "Re: [問卦] 言論自由最輝煌的年代是2008~2016年 https://www.ptt.cc//bbs/Gossiping/M.1742890960.A.C66.html  3/25\n",
            "[問卦] 歐洲治安差又髒？ https://www.ptt.cc//bbs/Gossiping/M.1742891002.A.186.html  3/25\n",
            "Re: [問卦] 亞亞買好機票了 https://www.ptt.cc//bbs/Gossiping/M.1742891031.A.1EA.html  3/25\n",
            "[問卦] 有一說一 步兵空曠處遇到無人機放棄抵抗? https://www.ptt.cc//bbs/Gossiping/M.1742891059.A.5BC.html  3/25\n",
            "[問卦] 亞亞回中國會被稱為民族英雄嗎？ https://www.ptt.cc//bbs/Gossiping/M.1742891065.A.CEA.html  3/25\n",
            "[問卦] 讚安諾要怎麼cp值高取得 https://www.ptt.cc//bbs/Gossiping/M.1742891129.A.198.html  3/25\n",
            "Fw: [公告] 請留意新註冊帳號使用信件詐騙 https://www.ptt.cc//bbs/Gossiping/M.1730554547.A.41C.html 11/02\n",
            "[公告] 八卦板板規(2025.01.21) https://www.ptt.cc//bbs/Gossiping/M.1737398137.A.644.html  1/21\n",
            "[公告]  春季大反攻！！八卦板主徵選報名開始捏 https://www.ptt.cc//bbs/Gossiping/M.1740024219.A.1EB.html  2/20\n",
            "Fw: [公告] 請避免與登入1次之帳號進行交易 發錢 https://www.ptt.cc//bbs/Gossiping/M.1741791500.A.EB6.html  3/12\n"
          ]
        }
      ]
    },
    {
      "cell_type": "code",
      "source": [],
      "metadata": {
        "id": "LWs0dlTMaDyF"
      },
      "execution_count": null,
      "outputs": []
    }
  ]
}