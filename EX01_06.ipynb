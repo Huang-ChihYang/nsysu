{
  "nbformat": 4,
  "nbformat_minor": 0,
  "metadata": {
    "colab": {
      "provenance": [],
      "authorship_tag": "ABX9TyOdUgAQqhGDWIu1kl+Ddc9T",
      "include_colab_link": true
    },
    "kernelspec": {
      "name": "python3",
      "display_name": "Python 3"
    },
    "language_info": {
      "name": "python"
    }
  },
  "cells": [
    {
      "cell_type": "markdown",
      "metadata": {
        "id": "view-in-github",
        "colab_type": "text"
      },
      "source": [
        "<a href=\"https://colab.research.google.com/github/Huang-ChihYang/nsysu/blob/main/EX01_06.ipynb\" target=\"_parent\"><img src=\"https://colab.research.google.com/assets/colab-badge.svg\" alt=\"Open In Colab\"/></a>"
      ]
    },
    {
      "cell_type": "code",
      "execution_count": 6,
      "metadata": {
        "id": "aCIHjQqRVX8k",
        "colab": {
          "base_uri": "https://localhost:8080/"
        },
        "outputId": "01cb7519-1698-4d2b-9f57-c41aa0e3bb24"
      },
      "outputs": [
        {
          "output_type": "stream",
          "name": "stdout",
          "text": [
            "商品: apple/25,banana/12,cherry/30\n",
            "購物車: banana,apple,cherry\n",
            "功能列 , 1.新增商品 2.移除商品 3.結帳 4.離開\n",
            "3\n",
            "結帳金額: 67\n"
          ]
        }
      ],
      "source": [
        "from IPython.display import clear_output\n",
        "shopping_cart = []\n",
        "products = { \"apple\": 25, \"banana\": 12, \"cherry\": 30 }\n",
        "while True:\n",
        "    clear_output()\n",
        "    print('商品:',','.join([f'{pd}/{pr}'for pd,pr in products.items()]))\n",
        "    print('購物車:',','.join(shopping_cart))\n",
        "    print('功能列',',','1.新增商品 2.移除商品 3.結帳 4.離開')\n",
        "    act=input()\n",
        "    if act[0]=='1':\n",
        "      shopping_cart.append(act[1:])\n",
        "    elif act[0]=='2':\n",
        "      shopping_cart.remove(act[1:])\n",
        "    elif act[0]=='3':\n",
        "      total=0\n",
        "      for pd in shopping_cart:\n",
        "        total=total+products[pd]\n",
        "      print('結帳金額:',total)\n",
        "      break\n",
        "    else:\n",
        "      print('離開')\n",
        "      break\n",
        ""
      ]
    },
    {
      "cell_type": "code",
      "source": [],
      "metadata": {
        "id": "KMzwBrlvTIPs"
      },
      "execution_count": null,
      "outputs": []
    }
  ]
}