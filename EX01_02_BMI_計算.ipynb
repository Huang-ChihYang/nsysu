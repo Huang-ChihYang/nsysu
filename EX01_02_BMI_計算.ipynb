{
  "nbformat": 4,
  "nbformat_minor": 0,
  "metadata": {
    "colab": {
      "provenance": [],
      "authorship_tag": "ABX9TyMnmNbCe6JLkciAysWlL19y",
      "include_colab_link": true
    },
    "kernelspec": {
      "name": "python3",
      "display_name": "Python 3"
    },
    "language_info": {
      "name": "python"
    }
  },
  "cells": [
    {
      "cell_type": "markdown",
      "metadata": {
        "id": "view-in-github",
        "colab_type": "text"
      },
      "source": [
        "<a href=\"https://colab.research.google.com/github/Huang-ChihYang/nsysu/blob/main/EX01_02_BMI_%E8%A8%88%E7%AE%97.ipynb\" target=\"_parent\"><img src=\"https://colab.research.google.com/assets/colab-badge.svg\" alt=\"Open In Colab\"/></a>"
      ]
    },
    {
      "cell_type": "code",
      "execution_count": 16,
      "metadata": {
        "colab": {
          "base_uri": "https://localhost:8080/"
        },
        "id": "pFZaxRaiLC8i",
        "outputId": "b79c0a86-de86-4b80-978f-f1808b5ad68f"
      },
      "outputs": [
        {
          "output_type": "stream",
          "name": "stdout",
          "text": [
            "enter your weight:70\n",
            "enter your height:180\n",
            "your bmi is 21.6\n"
          ]
        }
      ],
      "source": [
        "wt=(float(input('enter your weight:')))\n",
        "ht=(float(input('enter your height:')))/100\n",
        "\n",
        "bmi=round(wt/(ht*ht),1)\n",
        "print('your bmi is',bmi)\n"
      ]
    },
    {
      "cell_type": "code",
      "source": [],
      "metadata": {
        "id": "r39hl4qCMUWy"
      },
      "execution_count": null,
      "outputs": []
    }
  ]
}