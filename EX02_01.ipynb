{
  "nbformat": 4,
  "nbformat_minor": 0,
  "metadata": {
    "colab": {
      "provenance": [],
      "authorship_tag": "ABX9TyNZN2O7k5FHGKr4OF0IGGnm",
      "include_colab_link": true
    },
    "kernelspec": {
      "name": "python3",
      "display_name": "Python 3"
    },
    "language_info": {
      "name": "python"
    }
  },
  "cells": [
    {
      "cell_type": "markdown",
      "metadata": {
        "id": "view-in-github",
        "colab_type": "text"
      },
      "source": [
        "<a href=\"https://colab.research.google.com/github/Huang-ChihYang/nsysu/blob/main/EX02_01.ipynb\" target=\"_parent\"><img src=\"https://colab.research.google.com/assets/colab-badge.svg\" alt=\"Open In Colab\"/></a>"
      ]
    },
    {
      "cell_type": "code",
      "execution_count": 1,
      "metadata": {
        "colab": {
          "base_uri": "https://localhost:8080/",
          "height": 1000
        },
        "collapsed": true,
        "id": "7bdha3CMVz0S",
        "outputId": "19cb73d6-3de8-43f0-866f-4f2d9b5b0ffa"
      },
      "outputs": [
        {
          "output_type": "stream",
          "name": "stdout",
          "text": [
            "Okay, let's break down how AI works, focusing on the core concepts without getting bogged down in super-technical jargon.\n",
            "\n",
            "**The Big Picture: AI Mimics Intelligence**\n",
            "\n",
            "At its heart, Artificial Intelligence (AI) aims to create machines that can perform tasks that typically require human intelligence.  This includes things like:\n",
            "\n",
            "*   **Learning:** Acquiring information and rules to improve performance.\n",
            "*   **Reasoning:** Using knowledge to solve problems and make decisions.\n",
            "*   **Perception:**  Interpreting sensory input (like images, sound, or text).\n",
            "*   **Problem-solving:**  Finding solutions to complex challenges.\n",
            "*   **Natural Language Processing (NLP):** Understanding and generating human language.\n",
            "\n",
            "**The Building Blocks: Algorithms and Data**\n",
            "\n",
            "AI achieves this by using a combination of:\n",
            "\n",
            "1.  **Algorithms:**  These are sets of instructions or rules that tell the computer how to perform a specific task. Think of them as recipes for AI.  There are many different types of algorithms, each suited for different tasks.\n",
            "\n",
            "2.  **Data:** AI algorithms learn from data. The more data an AI system has access to, the better it can learn and make accurate predictions or decisions.  This data can be anything: text, images, audio, video, sensor readings, numerical data, etc.\n",
            "\n",
            "**Key Approaches to AI:**\n",
            "\n",
            "Here's a simplified look at some major AI approaches:\n",
            "\n",
            "*   **1. Machine Learning (ML):  Learning from Data**\n",
            "\n",
            "    *   This is the most prevalent type of AI today.  Instead of explicitly programming a computer to perform a task, you *train* it using data.  The ML algorithm looks for patterns in the data and learns to make predictions or decisions based on those patterns.\n",
            "\n",
            "    *   **Types of Machine Learning:**\n",
            "        *   **Supervised Learning:**  You give the algorithm labeled data (e.g., images of cats labeled \"cat\" and images of dogs labeled \"dog\"). The algorithm learns to associate the features of the images with the correct labels.  It's used for tasks like classification (categorizing things) and regression (predicting numerical values).\n",
            "        *   **Unsupervised Learning:**  You give the algorithm unlabeled data, and it tries to find patterns and structures on its own.  Examples include clustering (grouping similar data points) and dimensionality reduction (simplifying data).\n",
            "        *   **Reinforcement Learning:** The algorithm learns by trial and error. It interacts with an environment and receives rewards or penalties for its actions.  Over time, it learns to take actions that maximize its rewards.  This is used in things like game playing and robotics.\n",
            "\n",
            "    *   **Example:**  Training a spam filter. You feed the ML algorithm a lot of emails, labeled as either \"spam\" or \"not spam.\" The algorithm learns to identify features that are characteristic of spam (e.g., certain words, sender addresses, etc.) and uses this knowledge to classify new emails.\n",
            "\n",
            "*   **2. Deep Learning (DL):  A Powerful Sub-Field of ML**\n",
            "\n",
            "    *   Deep Learning is a type of Machine Learning that uses artificial neural networks with many layers (hence the term \"deep\").  These networks are inspired by the structure of the human brain.\n",
            "\n",
            "    *   **How it works:**  Each layer in the neural network extracts increasingly complex features from the data. For example, in image recognition, the first layer might detect edges, the second layer might detect shapes, and later layers might detect objects like faces or cars.\n",
            "\n",
            "    *   **Why it's powerful:** Deep learning can automatically learn complex features from data without requiring explicit feature engineering (where humans have to manually define the features).  It's particularly good at handling unstructured data like images, audio, and text.\n",
            "\n",
            "    *   **Example:** Image recognition. A deep learning model can be trained to recognize different objects in images with high accuracy, even if the images are noisy or contain variations in lighting or perspective.  Think of how Facebook recognizes faces in your photos.\n",
            "\n",
            "*   **3. Rule-Based Systems (Expert Systems):  Following Explicit Rules**\n",
            "\n",
            "    *   These systems rely on a set of predefined rules that are explicitly programmed by human experts.\n",
            "\n",
            "    *   **How it works:**  The system evaluates the input data against the rules and takes actions based on which rules are triggered.\n",
            "\n",
            "    *   **Example:**  A medical diagnosis system might have rules like \"If the patient has a fever AND a cough AND a sore throat, then they likely have the flu.\"\n",
            "\n",
            "    *   **Limitations:**  Rule-based systems are good for well-defined problems with clear rules, but they can be brittle and difficult to adapt to new situations or handle complex, ambiguous data. They also require significant human effort to create and maintain the rules.\n",
            "\n",
            "*   **4. Natural Language Processing (NLP): Understanding and Generating Language**\n",
            "\n",
            "    *   NLP is a field of AI that focuses on enabling computers to understand, interpret, and generate human language.\n",
            "\n",
            "    *   **How it works:** NLP uses a variety of techniques, including machine learning, deep learning, and rule-based methods, to analyze and process text and speech.\n",
            "\n",
            "    *   **Examples:**\n",
            "        *   **Machine Translation:** Translating text from one language to another (e.g., Google Translate).\n",
            "        *   **Sentiment Analysis:** Determining the emotional tone of a piece of text (e.g., identifying whether a customer review is positive or negative).\n",
            "        *   **Chatbots:** Creating conversational agents that can interact with humans in natural language.\n",
            "        *   **Speech Recognition:** Converting spoken language into text (e.g., Siri, Alexa).\n",
            "        *   **Text Summarization:** Automatically generating concise summaries of long documents.\n",
            "\n",
            "**The AI Development Process (Simplified)**\n",
            "\n",
            "1.  **Define the Problem:** Clearly define the task you want the AI to perform.  What question are you trying to answer?  What problem are you trying to solve?\n",
            "\n",
            "2.  **Gather and Prepare Data:** Collect a large amount of relevant data.  Clean and preprocess the data to make it suitable for training the AI model.  This often involves removing noise, handling missing values, and transforming the data into a suitable format.\n",
            "\n",
            "3.  **Choose an Algorithm:** Select the appropriate AI algorithm based on the nature of the problem and the available data.\n",
            "\n",
            "4.  **Train the Model:**  Feed the data into the chosen algorithm and allow it to learn the patterns and relationships within the data. This is a computationally intensive process that can take a lot of time and resources.\n",
            "\n",
            "5.  **Evaluate the Model:**  Test the trained model on a separate set of data (called the \"test set\") to assess its performance.  Metrics like accuracy, precision, and recall are used to evaluate the model's effectiveness.\n",
            "\n",
            "6.  **Tune the Model:** Adjust the parameters of the algorithm (e.g., the learning rate, the number of layers in a neural network) to improve its performance.  This is an iterative process that involves experimenting with different settings and evaluating the results.\n",
            "\n",
            "7.  **Deploy the Model:** Once the model is performing well, deploy it into a real-world application.\n",
            "\n",
            "8.  **Monitor and Retrain:** Continuously monitor the model's performance and retrain it with new data to ensure that it remains accurate and effective over time.\n",
            "\n",
            "**Important Considerations**\n",
            "\n",
            "*   **Bias:** AI models can inherit biases from the data they are trained on. This can lead to unfair or discriminatory outcomes.  It's crucial to be aware of potential biases and take steps to mitigate them.\n",
            "*   **Explainability:**  Some AI models (especially deep learning models) are \"black boxes,\" meaning it's difficult to understand how they arrive at their decisions. This lack of transparency can be a concern in sensitive applications.\n",
            "*   **Ethical Implications:**  AI raises a number of ethical questions, such as the potential for job displacement, the use of AI in autonomous weapons, and the privacy implications of collecting and analyzing large amounts of data.\n",
            "\n",
            "**In Summary**\n",
            "\n",
            "AI is about creating machines that can perform tasks that typically require human intelligence. It relies on algorithms and data to learn, reason, and solve problems. Machine learning, especially deep learning, is a dominant approach. While incredibly powerful, AI also raises important ethical and societal considerations that need to be addressed.\n",
            "\n"
          ]
        }
      ],
      "source": [
        "import google.generativeai as genai\n",
        "\n",
        "genai.configure(api_key=\"\")\n",
        "model = genai.GenerativeModel(\"gemini-2.0-flash\")\n",
        "response = model.generate_content(\"Explain how AI works\")\n",
        "print(response.text)"
      ]
    },
    {
      "cell_type": "code",
      "source": [
        "from google.colab import userdata\n",
        "import google.generativeai as genai\n",
        "genai.configure(api_key=userdata.get('gemini_api_key'))"
      ],
      "metadata": {
        "id": "nJnCpjEjWitC"
      },
      "execution_count": 2,
      "outputs": []
    },
    {
      "cell_type": "code",
      "source": [
        "chat = model.start_chat(history=[])\n",
        "response = chat.send_message('Who are you?')\n",
        "\n",
        "print(response.text)"
      ],
      "metadata": {
        "colab": {
          "base_uri": "https://localhost:8080/",
          "height": 52
        },
        "id": "mvXIVz8IWtgR",
        "outputId": "e1190244-afd4-46a3-d680-7159345d8cd0"
      },
      "execution_count": 5,
      "outputs": [
        {
          "output_type": "stream",
          "name": "stdout",
          "text": [
            "I am a large language model, trained by Google.\n",
            "\n"
          ]
        }
      ]
    },
    {
      "cell_type": "code",
      "source": [
        "from IPython.display import Markdown, display\n",
        "\n",
        "while True:\n",
        "  chat = model.start_chat(history=[])\n",
        "  a=input('you:')\n",
        "  if a=='bye':\n",
        "    print('gemini:BYE!')\n",
        "    break\n",
        "  response = chat.send_message(a)\n",
        "  print('gemini:',response.text)"
      ],
      "metadata": {
        "colab": {
          "base_uri": "https://localhost:8080/"
        },
        "id": "L1Z_XnAJW5ux",
        "outputId": "bdbffd09-36a1-49f3-c739-02936befdac9"
      },
      "execution_count": 11,
      "outputs": [
        {
          "output_type": "stream",
          "name": "stdout",
          "text": [
            "you:bye\n",
            "BYE!\n"
          ]
        }
      ]
    },
    {
      "cell_type": "code",
      "source": [
        "'''\n",
        "generation_config={\n",
        "    'temperature': 1,\n",
        "    'max_output_tokens': 1280,\n",
        "}\n",
        "'''\n",
        "#參數不一定要調整\n"
      ],
      "metadata": {
        "id": "lj6Zw1ClXiab"
      },
      "execution_count": null,
      "outputs": []
    }
  ]
}