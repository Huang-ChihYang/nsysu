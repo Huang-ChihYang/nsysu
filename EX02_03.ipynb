{
  "nbformat": 4,
  "nbformat_minor": 0,
  "metadata": {
    "colab": {
      "provenance": [],
      "authorship_tag": "ABX9TyPIq8JCvTYfBvi5EFqYZlTr",
      "include_colab_link": true
    },
    "kernelspec": {
      "name": "python3",
      "display_name": "Python 3"
    },
    "language_info": {
      "name": "python"
    }
  },
  "cells": [
    {
      "cell_type": "markdown",
      "metadata": {
        "id": "view-in-github",
        "colab_type": "text"
      },
      "source": [
        "<a href=\"https://colab.research.google.com/github/Huang-ChihYang/nsysu/blob/main/EX02_03.ipynb\" target=\"_parent\"><img src=\"https://colab.research.google.com/assets/colab-badge.svg\" alt=\"Open In Colab\"/></a>"
      ]
    },
    {
      "cell_type": "code",
      "execution_count": null,
      "metadata": {
        "id": "XW6jsYJbRr-b"
      },
      "outputs": [],
      "source": [
        "import requests\n",
        "url = 'https://tw.portal-pokemon.com/play/pokedex/0001'\n",
        "response = requests.get(url)"
      ]
    },
    {
      "cell_type": "code",
      "source": [
        "from bs4 import BeautifulSoup\n",
        "soup = BeautifulSoup(response.text, 'lxml')\n",
        "soup.title\n"
      ],
      "metadata": {
        "colab": {
          "base_uri": "https://localhost:8080/"
        },
        "id": "tdYnHaNHRvQJ",
        "outputId": "6859decb-629e-4f67-dcd8-439e66ecac4a"
      },
      "execution_count": null,
      "outputs": [
        {
          "output_type": "execute_result",
          "data": {
            "text/plain": [
              "<title>妙蛙種子 | 寶可夢圖鑑 | The official Pokémon Website in Taiwan</title>"
            ]
          },
          "metadata": {},
          "execution_count": 2
        }
      ]
    },
    {
      "cell_type": "code",
      "source": [
        "img_url='https://tw.portal-pokemon.com/play'+soup.find('img',class_='pokemon-img__front')['src']\n",
        "img = requests.get(img_url)\n",
        "with open('0001.png','wb') as f:\n",
        "  f.write(img.content)"
      ],
      "metadata": {
        "id": "6RctTj0lemry"
      },
      "execution_count": null,
      "outputs": []
    },
    {
      "cell_type": "code",
      "source": [
        "for i in range(1,11):\n",
        "  id=f'{i:04}'\n",
        "  url=f'https://tw.portal-pokemon.com/play/pokedex/{id}'\n",
        "  response = requests.get(url)\n",
        "  soup = BeautifulSoup(response.text, 'lxml')\n",
        "  img_src=soup.find('img',class_='pokemon-img__front')['src']\n",
        "  img_url=f'https://tw.portal-pokemon.com{img_src}'\n",
        "  img=requests.get(img_url)\n",
        "  with open(f'/content/pokemon/{id}.png','wb') as f:\n",
        "    f.write(img.content)\n",
        "\n"
      ],
      "metadata": {
        "id": "on9IrVzAbX8L"
      },
      "execution_count": 9,
      "outputs": []
    }
  ]
}