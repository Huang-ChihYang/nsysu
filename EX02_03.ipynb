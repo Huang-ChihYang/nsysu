{
  "nbformat": 4,
  "nbformat_minor": 0,
  "metadata": {
    "colab": {
      "provenance": [],
      "authorship_tag": "ABX9TyOK1p4rwyF/WrSRCtUIf1Rg",
      "include_colab_link": true
    },
    "kernelspec": {
      "name": "python3",
      "display_name": "Python 3"
    },
    "language_info": {
      "name": "python"
    }
  },
  "cells": [
    {
      "cell_type": "markdown",
      "metadata": {
        "id": "view-in-github",
        "colab_type": "text"
      },
      "source": [
        "<a href=\"https://colab.research.google.com/github/Huang-ChihYang/nsysu/blob/main/Ex02_03.ipynb\" target=\"_parent\"><img src=\"https://colab.research.google.com/assets/colab-badge.svg\" alt=\"Open In Colab\"/></a>"
      ]
    },
    {
      "cell_type": "code",
      "execution_count": 2,
      "metadata": {
        "colab": {
          "base_uri": "https://localhost:8080/"
        },
        "id": "85Iu2YxXCNJO",
        "outputId": "b3d6df69-0da1-49df-a2c1-47d5d2553a38"
      },
      "outputs": [
        {
          "output_type": "stream",
          "name": "stdout",
          "text": [
            "Requirement already satisfied: feedparser in /usr/local/lib/python3.11/dist-packages (6.0.11)\n",
            "Requirement already satisfied: sgmllib3k in /usr/local/lib/python3.11/dist-packages (from feedparser) (1.0.0)\n"
          ]
        }
      ],
      "source": [
        "!pip install feedparser\n"
      ]
    },
    {
      "cell_type": "code",
      "source": [
        "import feedparser\n",
        "feed_url = \"https://tw.news.yahoo.com/rss\"\n",
        "feed_data = feedparser.parse(feed_url)\n",
        "for entry in feed_data.entries[:5]:\n",
        "    print(entry.title)\n",
        "    print(entry.summary)\n",
        "    print(entry.link)\n",
        "    print(\"---\")"
      ],
      "metadata": {
        "colab": {
          "base_uri": "https://localhost:8080/"
        },
        "id": "tvQV7qFrCSo4",
        "outputId": "c013365a-8d73-4c2d-ff40-dfb7c6704643"
      },
      "execution_count": 3,
      "outputs": [
        {
          "output_type": "stream",
          "name": "stdout",
          "text": [
            "童裝業績輸壽衣？昔日產業龍頭面臨下市危機　專家曝現實面：墓園成投資新藍海\n",
            "台灣少子化問題持續惡化，低出生率造成人口結構失衡，導致青壯年人口扶養負擔日益沉重，對社會生產力造成衝擊，也讓不少嬰幼兒用品的銷售大不如前。...\n",
            "https://tw.news.yahoo.com/%E7%AB%A5%E8%A3%9D%E6%A5%AD%E7%B8%BE%E8%BC%B8%E5%A3%BD%E8%A1%A3-%E6%98%94%E6%97%A5%E7%94%A2%E6%A5%AD%E9%BE%8D%E9%A0%AD%E9%9D%A2%E8%87%A8%E4%B8%8B%E5%B8%82%E5%8D%B1%E6%A9%9F-%E5%B0%88%E5%AE%B6%E6%9B%9D%E7%8F%BE%E5%AF%A6%E9%9D%A2-%E5%A2%93%E5%9C%92%E6%88%90%E6%8A%95%E8%B3%87%E6%96%B0%E8%97%8D%E6%B5%B7-064749910.html\n",
            "---\n",
            "首家純AI公司創新版改列一般版！Gogolook走著瞧：最快4月底完成上市\n",
            "信任科技服務商 Gogolook（原稱「走著瞧-創」，6902）今（18）日舉辦改列上市前業績發表會，宣布最快將於4月底轉列一般板，將成為台灣首間從創新板改列一般板上市的純 AI 軟體公司。\n",
            "https://tw.stock.yahoo.com/news/%E9%A6%96%E5%AE%B6%E7%B4%94ai%E5%85%AC%E5%8F%B8%E5%89%B5%E6%96%B0%E7%89%88%E6%94%B9%E5%88%97%E4%B8%80%E8%88%AC%E7%89%88%EF%BC%81gogolook%E8%B5%B0%E8%91%97%E7%9E%A7%EF%BC%9A%E6%9C%80%E5%BF%AB4%E6%9C%88%E5%BA%95%E5%AE%8C%E6%88%90%E4%B8%8A%E5%B8%82-064720996.html\n",
            "---\n",
            "台鐵「新市-善化」68歲翁闖軌遭普悠瑪撞擊　當場死亡\n",
            "台鐵今天（18日）上午發生一起死傷事故，68歲凃姓老翁闖入台南新市至善化路段的鐵道範圍，一列107次普悠瑪號列車因煞車不及撞上，凃翁當場死亡。此事故，該區間一度「單線雙向」行車，下午1時7分恢復雙向通行。詳細事故原因，仍待釐清。\n",
            "https://tw.news.yahoo.com/%E5%8F%B0%E9%90%B5%E5%8F%88%E5%87%BA%E4%BA%8B-%E6%96%B0%E5%B8%82-%E5%96%84%E5%8C%96-%E6%9C%89%E4%BA%BA%E9%97%96%E5%85%A5%E8%BB%8C%E9%81%93%E9%81%AD%E6%99%AE%E6%82%A0%E7%91%AA%E6%92%9E%E6%93%8A-035130246.html\n",
            "---\n",
            "美紀錄片爆「外星人已現身」！政府隱瞞80年\n",
            "（記者周德瑄／綜合報導）美國紀錄片《揭露時代》（The Age of Disclosure）於上週在德州奧斯汀 […]\n",
            "https://tw.news.yahoo.com/%E7%BE%8E%E7%B4%80%E9%8C%84%E7%89%87%E7%88%86-%E5%A4%96%E6%98%9F%E4%BA%BA%E5%B7%B2%E7%8F%BE%E8%BA%AB-%E6%94%BF%E5%BA%9C%E9%9A%B1%E7%9E%9E80%E5%B9%B4-064556962.html\n",
            "---\n",
            "遠雄今年迎368億元完工潮 商辦熱銷再添6.1億元\n",
            "遠雄建設2024年財報顯示，全年營收達223.99億元，較2023年下降。然而，2025年將迎來大規模完工交屋潮，全台總案量上看368億。此外，遠雄17日公告，售出北士科『遠雄商舟』四戶房地與25席車位，交易金額達6.1億元，顯示商辦市場持續火熱。\n",
            "https://tw.stock.yahoo.com/news/%E9%81%A0%E9%9B%84%E4%BB%8A%E5%B9%B4%E8%BF%8E368%E5%84%84%E5%85%83%E5%AE%8C%E5%B7%A5%E6%BD%AE-%E5%95%86%E8%BE%A6%E7%86%B1%E9%8A%B7%E5%86%8D%E6%B7%BB61%E5%84%84%E5%85%83-064552706.html\n",
            "---\n"
          ]
        }
      ]
    },
    {
      "cell_type": "code",
      "source": [
        "from google.colab import auth\n",
        "from google.auth import default\n",
        "import gspread\n",
        "\n",
        "auth.authenticate_user() # 進行授權\n",
        "creds, _ = default() # 使用 default 方法獲取驗證信息\n",
        "gc = gspread.authorize(creds) # 使用 creds 變數授權 gspread 模組"
      ],
      "metadata": {
        "id": "xWUtuIsfCWd4"
      },
      "execution_count": 5,
      "outputs": []
    },
    {
      "cell_type": "code",
      "source": [
        "# 開啟 Google 試算表\n",
        "url = 'https://docs.google.com/spreadsheets/d/1jHRmGRINccllBwflglVEMUAMZJaM2a4g3rjiHSAfMPM/edit?hl=zh-tw&pli=1&gid=0#gid=0'\n",
        "workbook = gc.open_by_url(url)\n",
        "# 獲取工作簿中索引為 0 的工作表，並將其儲存在 sheet 變數中\n",
        "sheet = workbook.get_worksheet(0)\n",
        "# 新增一列資料\n",
        "sheet.append_row(['title','summary','link'])\n",
        "\n",
        "for entry in feed_data.entries[:5]:\n",
        "    sheet.append_row([entry.title,entry.summary,entry.link])"
      ],
      "metadata": {
        "id": "LfWrZlIhCcag"
      },
      "execution_count": 9,
      "outputs": []
    },
    {
      "cell_type": "code",
      "source": [],
      "metadata": {
        "id": "zTzbNfSRDBzR"
      },
      "execution_count": null,
      "outputs": []
    }
  ]
}
