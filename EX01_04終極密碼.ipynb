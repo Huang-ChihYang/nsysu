{
  "nbformat": 4,
  "nbformat_minor": 0,
  "metadata": {
    "colab": {
      "provenance": [],
      "authorship_tag": "ABX9TyN6gLoGr7ROY1pfNw7guZEy",
      "include_colab_link": true
    },
    "kernelspec": {
      "name": "python3",
      "display_name": "Python 3"
    },
    "language_info": {
      "name": "python"
    }
  },
  "cells": [
    {
      "cell_type": "markdown",
      "metadata": {
        "id": "view-in-github",
        "colab_type": "text"
      },
      "source": [
        "<a href=\"https://colab.research.google.com/github/Huang-ChihYang/nsysu/blob/main/EX01_04.ipynb\" target=\"_parent\"><img src=\"https://colab.research.google.com/assets/colab-badge.svg\" alt=\"Open In Colab\"/></a>"
      ]
    },
    {
      "cell_type": "code",
      "execution_count": 10,
      "metadata": {
        "colab": {
          "base_uri": "https://localhost:8080/"
        },
        "id": "SBsY95dW7yny",
        "outputId": "618cddb3-8b89-4109-9ee8-e0a45cf8fcd2"
      },
      "outputs": [
        {
          "output_type": "stream",
          "name": "stdout",
          "text": [
            "guess:100\n",
            "not in range\n",
            "guess:-12\n",
            "not in range\n",
            "guess:50\n",
            "guess a bigger number\n",
            "guess:80\n",
            "guess a smaller number\n",
            "guess:70\n",
            "guess a smaller number\n",
            "guess:60\n",
            "guess a smaller number\n",
            "guess:55\n",
            "guess a smaller number\n",
            "guess:52\n",
            "guess a smaller number\n",
            "guess:51\n",
            "correct\n"
          ]
        }
      ],
      "source": [
        "import random\n",
        "bomb=random.randint(1,99)\n",
        "\n",
        "lf=0\n",
        "rt=100\n",
        "while True:\n",
        "  guess=int(input('guess:'))\n",
        "  if guess<=0 or guess>=99:\n",
        "    print('not in range')\n",
        "  elif guess<bomb:\n",
        "    lf=guess\n",
        "    print('guess a bigger number')\n",
        "  elif guess>bomb:\n",
        "    rt=guess\n",
        "    print('guess a smaller number')\n",
        "  else:\n",
        "    print('correct')\n",
        "    break"
      ]
    },
    {
      "cell_type": "code",
      "source": [],
      "metadata": {
        "id": "SGRzi7ro8v5t"
      },
      "execution_count": null,
      "outputs": []
    }
  ]
}
